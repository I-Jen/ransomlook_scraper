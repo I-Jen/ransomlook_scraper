{
 "cells": [
  {
   "cell_type": "code",
   "execution_count": null,
   "metadata": {},
   "outputs": [],
   "source": [
    "import requests\n",
    "import json\n",
    "from datetime import datetime\n",
    "import pandas as pd\n",
    "\n",
    "def make_api_call(api_url):\n",
    "    session = requests.session()\n",
    "    session.proxies = {\n",
    "        'http': 'socks5h://localhost:9150',\n",
    "        'https': 'socks5h://localhost:9150'\n",
    "    }\n",
    "\n",
    "    try:\n",
    "        response = session.get(api_url)\n",
    "        if response.status_code == 200:\n",
    "            return response.json()\n",
    "        else:\n",
    "            print(f\"API request failed with status code {response.status_code}\")\n",
    "            return None\n",
    "    except Exception as e:\n",
    "        print(f\"An error occurred: {str(e)}\")\n",
    "        return None\n"
   ]
  },
  {
   "cell_type": "code",
   "execution_count": null,
   "metadata": {},
   "outputs": [],
   "source": [
    "# Example API endpoint URL\n",
    "alphv_api_url = 'http://alphvmmm27o3abo3r2mlmjrpdmzle3rykajqc5xsj7j7ejksbpsa36ad.onion/api/blog/brief/0/1000'\n",
    "\n",
    "# Make the API call\n",
    "response_data_brief = make_api_call(alphv_api_url)\n",
    "\n",
    "# Process the response data as needed\n",
    "if response_data_brief:\n",
    "    # Process the JSON response data\n",
    "    print(json.dumps(response_data_brief, indent=2))"
   ]
  },
  {
   "cell_type": "code",
   "execution_count": null,
   "metadata": {},
   "outputs": [],
   "source": [
    "# Initialize empty lists to store extracted values\n",
    "ids = []\n",
    "titles = []\n",
    "created_dates = []\n",
    "updated_dates = []\n",
    "website_links = []\n",
    "countries = []\n",
    "descriptions = []"
   ]
  },
  {
   "cell_type": "code",
   "execution_count": null,
   "metadata": {},
   "outputs": [],
   "source": [
    "for item in response_data_brief['items']:\n",
    "\n",
    "    print(item['title'])\n",
    "\n",
    "    # Convert epoch milliseconds to datetime objects\n",
    "    created_dt = datetime.fromtimestamp(item['createdDt'] / 1000.0) if item['createdDt'] else None\n",
    "    updated_dt = datetime.fromtimestamp(item['updatedDt'] / 1000.0) if item['updatedDt'] else None\n",
    "\n",
    "    # Skip if article is before 2023\n",
    "    if created_dt <= datetime(2023, 1, 1):\n",
    "        continue\n",
    "\n",
    "    else:\n",
    "        id = item['id']\n",
    "        title = item['title']\n",
    "        # Format the datetime objects as \"dd/mm/yyyy\"\n",
    "        created_date_str = created_dt.strftime(\"%d/%m/%Y\") if created_dt else None\n",
    "        updated_date_str = updated_dt.strftime(\"%d/%m/%Y\") if updated_dt else None\n",
    "\n",
    "        # Get additional information for this post:\n",
    "        url = f'http://alphvmmm27o3abo3r2mlmjrpdmzle3rykajqc5xsj7j7ejksbpsa36ad.onion/api/blog/{id}'\n",
    "        data_response_detailed = make_api_call(url)\n",
    "        if data_response_detailed:\n",
    "            try:\n",
    "                website_link = data_response_detailed['publication']['url']\n",
    "            except:\n",
    "                website_link = None\n",
    "                print(\"website_link returns NoneType\")\n",
    "\n",
    "            try:\n",
    "                country = data_response_detailed['publication']['country']\n",
    "            except:\n",
    "                country = None\n",
    "                print(\"country returns NoneType\")\n",
    "\n",
    "            try:\n",
    "                description = data_response_detailed['publication']['description']\n",
    "            except:\n",
    "                description = None\n",
    "                print(\"description returns NoneType\")\n",
    "\n",
    "        # Append to list\n",
    "        ids.append(item['id'])\n",
    "        titles.append(item['title'])\n",
    "        created_dates.append(created_date_str)\n",
    "        updated_dates.append(updated_date_str)\n",
    "        website_links.append(website_link)\n",
    "        countries.append(country)\n",
    "        descriptions.append(description)\n",
    "\n",
    "    \n",
    "\n",
    "    \n",
    "        \n",
    "\n",
    "        "
   ]
  },
  {
   "cell_type": "code",
   "execution_count": null,
   "metadata": {},
   "outputs": [],
   "source": [
    "# Print the extracted lists with datetime objects\n",
    "print(\"IDs:\", ids)\n",
    "print(\"Titles:\", titles)\n",
    "print(\"Created Dates:\", created_dates)\n",
    "print(\"Updated Dates:\", updated_dates)\n",
    "print(\"Website Links:\", website_links)\n",
    "print(\"Countries:\", countries)\n",
    "print(\"Descriptions:\", descriptions)"
   ]
  },
  {
   "cell_type": "code",
   "execution_count": null,
   "metadata": {},
   "outputs": [],
   "source": [
    "# Create a dictionary to store the data\n",
    "data_dict = {\n",
    "    'id': ids,\n",
    "    'title': titles,\n",
    "    'created_date': created_dates,\n",
    "    'updated_date': updated_dates,\n",
    "    'website_link': website_links,\n",
    "    'country': countries,\n",
    "    'description': descriptions\n",
    "}"
   ]
  },
  {
   "cell_type": "code",
   "execution_count": null,
   "metadata": {},
   "outputs": [],
   "source": [
    "# Create a Pandas DataFrame from the dictionary\n",
    "df = pd.DataFrame(data_dict)\n",
    "\n",
    "# Print the DataFrame\n",
    "df"
   ]
  },
  {
   "cell_type": "code",
   "execution_count": null,
   "metadata": {},
   "outputs": [],
   "source": [
    "df.to_csv(\"alphv_data.csv\")"
   ]
  }
 ],
 "metadata": {
  "kernelspec": {
   "display_name": "venv",
   "language": "python",
   "name": "python3"
  },
  "language_info": {
   "codemirror_mode": {
    "name": "ipython",
    "version": 3
   },
   "file_extension": ".py",
   "mimetype": "text/x-python",
   "name": "python",
   "nbconvert_exporter": "python",
   "pygments_lexer": "ipython3",
   "version": "3.9.13"
  },
  "orig_nbformat": 4
 },
 "nbformat": 4,
 "nbformat_minor": 2
}
